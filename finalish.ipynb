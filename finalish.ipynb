{
 "cells": [
  {
   "cell_type": "code",
   "execution_count": 1,
   "metadata": {},
   "outputs": [],
   "source": [
    "import pickle\n",
    "from string import punctuation\n",
    "\n",
    "import pandas as pd\n",
    "from sklearn.model_selection import train_test_split"
   ]
  },
  {
   "cell_type": "code",
   "execution_count": 2,
   "metadata": {},
   "outputs": [],
   "source": [
    "import numpy as np\n",
    "import json\n",
    "import dask.bag as db"
   ]
  },
  {
   "cell_type": "code",
   "execution_count": 10,
   "metadata": {},
   "outputs": [],
   "source": [
    "# Load the data\n",
    "import logging\n",
    "logger = logging.getLogger(\"spacy\")\n",
    "logger.setLevel(logging.ERROR)\n",
    "\n",
    "import dask.bag as db\n",
    "import json\n",
    "\n",
    "docs = db.read_text('../Data/arxiv-metadata-oai-snapshot.json').map(json.loads)"
   ]
  },
  {
   "cell_type": "code",
   "execution_count": 11,
   "metadata": {},
   "outputs": [],
   "source": [
    "# Trimming the data\n",
    "get_latest_version = lambda x: x['versions'][-1]['created']\n",
    "\n",
    "\n",
    "# get only necessary fields of the metadata file\n",
    "trim = lambda x: {'id': x['id'],\n",
    "                  'versions': x['versions'],\n",
    "                  'category':x['categories'].split(' '),\n",
    "                  'abstract':x['abstract'],}\n",
    "\n",
    "# filter for papers published before 2022\n",
    "columns = ['id','category','abstract','versions']\n",
    "docs_df = (docs.filter(lambda x: int(get_latest_version(x).split(' ')[3]) <2022)\n",
    "           .map(trim).\n",
    "           compute())\n",
    "\n",
    "# convert to pandas\n",
    "docs_df = pd.DataFrame(docs_df)"
   ]
  },
  {
   "cell_type": "code",
   "execution_count": 14,
   "metadata": {},
   "outputs": [],
   "source": [
    "#save trimmed dataset for later use so we can skip the dataset trimming later:\n",
    "docs_df.to_csv(\"../Data/trimmed_arxiv_docs3.csv\", index=False)"
   ]
  },
  {
   "cell_type": "code",
   "execution_count": 15,
   "metadata": {},
   "outputs": [],
   "source": [
    "# Read docs from the file\n",
    "df = pd.read_csv('../Data/trimmed_arxiv_docs3.csv')"
   ]
  },
  {
   "cell_type": "code",
   "execution_count": 16,
   "metadata": {},
   "outputs": [],
   "source": [
    "categories = list(df['category'].unique())"
   ]
  },
  {
   "cell_type": "code",
   "execution_count": 17,
   "metadata": {},
   "outputs": [],
   "source": [
    "# Split categories\n",
    "def splitCategory(cat):\n",
    "    tmp = cat.replace('[','').replace(']','')\n",
    "    c = tmp.split(', ')\n",
    "    c = [w.replace(\"'\",\"\") for w in c]\n",
    "    return c"
   ]
  },
  {
   "cell_type": "code",
   "execution_count": 18,
   "metadata": {},
   "outputs": [],
   "source": [
    "# Find main category\n",
    "def findMainCat(categories):\n",
    "    new_cat = list(dict.fromkeys([cat.split(\".\")[0] for cat in categories]))\n",
    "    return new_cat"
   ]
  },
  {
   "cell_type": "code",
   "execution_count": 19,
   "metadata": {},
   "outputs": [
    {
     "data": {
      "text/plain": [
       "count                                               2038555\n",
       "unique                                              2038555\n",
       "top         A fully differential calculation in perturba...\n",
       "freq                                                      1\n",
       "Name: abstract, dtype: object"
      ]
     },
     "execution_count": 19,
     "metadata": {},
     "output_type": "execute_result"
    }
   ],
   "source": [
    "# Getting rid of duplicates\n",
    "df.drop_duplicates(['abstract',], inplace=True)\n",
    "df['abstract'].describe(include='all')"
   ]
  },
  {
   "cell_type": "markdown",
   "metadata": {},
   "source": [
    "NLP Processing"
   ]
  },
  {
   "cell_type": "code",
   "execution_count": 21,
   "metadata": {},
   "outputs": [],
   "source": [
    "# Add the categories\n",
    "df['list_categories'] = df.category.apply(splitCategory)\n",
    "df['main_categories'] = df.list_categories.apply(findMainCat)"
   ]
  },
  {
   "cell_type": "code",
   "execution_count": 22,
   "metadata": {},
   "outputs": [],
   "source": [
    "# Create CS and Random dataframes\n",
    "bool_series = [\"cs\" in cat[0] for cat in df.main_categories]\n",
    "df_cs = df[bool_series]"
   ]
  },
  {
   "cell_type": "code",
   "execution_count": 23,
   "metadata": {},
   "outputs": [],
   "source": [
    "# Non-CS df\n",
    "bool_series = [\"cs\" not in cat for cat in df.main_categories]\n",
    "df_random = df[bool_series]"
   ]
  },
  {
   "cell_type": "code",
   "execution_count": 25,
   "metadata": {},
   "outputs": [],
   "source": [
    "def get_year(version):\n",
    "    return int(version.split(': ')[2].split(' ')[3])"
   ]
  },
  {
   "cell_type": "code",
   "execution_count": 26,
   "metadata": {},
   "outputs": [],
   "source": [
    "import datetime\n",
    "def get_month(version):\n",
    "    month_name = version.split(': ')[2].split(' ')[2]\n",
    "    datetime_object = datetime.datetime.strptime(month_name, \"%b\")\n",
    "    month_number = datetime_object.month\n",
    "    return month_number"
   ]
  },
  {
   "cell_type": "code",
   "execution_count": 27,
   "metadata": {},
   "outputs": [],
   "source": [
    "def get_quarter(version):\n",
    "    year = get_year(version)\n",
    "    month = get_month(version)\n",
    "    date = int(year)*12+int(month)\n",
    "    return date"
   ]
  },
  {
   "cell_type": "code",
   "execution_count": 28,
   "metadata": {},
   "outputs": [
    {
     "name": "stderr",
     "output_type": "stream",
     "text": [
      "/var/folders/9k/9qw6yrzx6493tcr085_zrwj40000gn/T/ipykernel_58356/3872019404.py:1: SettingWithCopyWarning: \n",
      "A value is trying to be set on a copy of a slice from a DataFrame.\n",
      "Try using .loc[row_indexer,col_indexer] = value instead\n",
      "\n",
      "See the caveats in the documentation: https://pandas.pydata.org/pandas-docs/stable/user_guide/indexing.html#returning-a-view-versus-a-copy\n",
      "  df_cs['year'] = df_cs.versions.apply(get_year)\n",
      "/var/folders/9k/9qw6yrzx6493tcr085_zrwj40000gn/T/ipykernel_58356/3872019404.py:2: SettingWithCopyWarning: \n",
      "A value is trying to be set on a copy of a slice from a DataFrame.\n",
      "Try using .loc[row_indexer,col_indexer] = value instead\n",
      "\n",
      "See the caveats in the documentation: https://pandas.pydata.org/pandas-docs/stable/user_guide/indexing.html#returning-a-view-versus-a-copy\n",
      "  df_random['year'] = df_random.versions.apply(get_year)\n",
      "/var/folders/9k/9qw6yrzx6493tcr085_zrwj40000gn/T/ipykernel_58356/3872019404.py:3: SettingWithCopyWarning: \n",
      "A value is trying to be set on a copy of a slice from a DataFrame.\n",
      "Try using .loc[row_indexer,col_indexer] = value instead\n",
      "\n",
      "See the caveats in the documentation: https://pandas.pydata.org/pandas-docs/stable/user_guide/indexing.html#returning-a-view-versus-a-copy\n",
      "  df_cs['quarter'] = df_cs.versions.apply(get_quarter)\n",
      "/var/folders/9k/9qw6yrzx6493tcr085_zrwj40000gn/T/ipykernel_58356/3872019404.py:4: SettingWithCopyWarning: \n",
      "A value is trying to be set on a copy of a slice from a DataFrame.\n",
      "Try using .loc[row_indexer,col_indexer] = value instead\n",
      "\n",
      "See the caveats in the documentation: https://pandas.pydata.org/pandas-docs/stable/user_guide/indexing.html#returning-a-view-versus-a-copy\n",
      "  df_random['quarter'] = df_random.versions.apply(get_quarter)\n"
     ]
    }
   ],
   "source": [
    "df_cs['year'] = df_cs.versions.apply(get_year)\n",
    "df_random['year'] = df_random.versions.apply(get_year)\n",
    "df_cs['quarter'] = df_cs.versions.apply(get_quarter)\n",
    "df_random['quarter'] = df_random.versions.apply(get_quarter)"
   ]
  },
  {
   "cell_type": "code",
   "execution_count": 31,
   "metadata": {},
   "outputs": [],
   "source": [
    "# Exclude 2022\n",
    "bool_series = [year<2022 for year in df_cs.year]\n",
    "df_cs = df_cs[bool_series]"
   ]
  },
  {
   "cell_type": "code",
   "execution_count": 32,
   "metadata": {},
   "outputs": [],
   "source": [
    "# Exclude 2022\n",
    "bool_series = [year<2022 for year in df_random.year]\n",
    "df_random = df_random[bool_series]"
   ]
  },
  {
   "cell_type": "code",
   "execution_count": null,
   "metadata": {},
   "outputs": [],
   "source": []
  },
  {
   "cell_type": "code",
   "execution_count": null,
   "metadata": {},
   "outputs": [],
   "source": [
    "# Reduce the size of the data\n",
    "df_cs = df_cs[].sample(100000, random_state=42)\n",
    "df_random = df_random.sample(100000, random_state=42)"
   ]
  },
  {
   "cell_type": "code",
   "execution_count": 38,
   "metadata": {},
   "outputs": [
    {
     "data": {
      "text/plain": [
       "id                                                          704.0003\n",
       "authors                                                  Hongjun Pan\n",
       "title              The evolution of the Earth-Moon system based o...\n",
       "versions           [{'version': 'v1', 'created': 'Sun, 1 Apr 2007...\n",
       "category                                          ['physics.gen-ph']\n",
       "abstract             The evolution of Earth-Moon system is descri...\n",
       "list_categories                                     [physics.gen-ph]\n",
       "main_categories                                            [physics]\n",
       "year                                                            2007\n",
       "quarter                                                        24088\n",
       "Name: 2, dtype: object"
      ]
     },
     "execution_count": 38,
     "metadata": {},
     "output_type": "execute_result"
    }
   ],
   "source": [
    "df_cs.loc[2]"
   ]
  }
 ],
 "metadata": {
  "interpreter": {
   "hash": "ed84773cb83e1236b116db394347278adc920a3486f490ce1b0deb126d0e8ae8"
  },
  "kernelspec": {
   "display_name": "Python 3.9.7 ('base')",
   "language": "python",
   "name": "python3"
  },
  "language_info": {
   "codemirror_mode": {
    "name": "ipython",
    "version": 3
   },
   "file_extension": ".py",
   "mimetype": "text/x-python",
   "name": "python",
   "nbconvert_exporter": "python",
   "pygments_lexer": "ipython3",
   "version": "3.9.7"
  },
  "orig_nbformat": 4
 },
 "nbformat": 4,
 "nbformat_minor": 2
}
